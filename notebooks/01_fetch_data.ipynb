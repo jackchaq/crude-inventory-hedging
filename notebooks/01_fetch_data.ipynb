{
 "cells": [
  {
   "cell_type": "code",
   "execution_count": 2,
   "id": "76f10369",
   "metadata": {},
   "outputs": [],
   "source": [
    "import os\n",
    "import sys\n",
    "sys.path.append(os.path.abspath(os.path.join(os.getcwd(), \"..\")))\n"
   ]
  },
  {
   "cell_type": "code",
   "execution_count": 3,
   "id": "06aa1a4f",
   "metadata": {},
   "outputs": [
    {
     "name": "stderr",
     "output_type": "stream",
     "text": [
      "c:\\Users\\therd\\2_Python_project\\crude_inventory_optimization\\src\\utils\\data_loader.py:6: FutureWarning: YF.download() has changed argument auto_adjust default to True\n",
      "  df = yf.download(ticker, start=start, end=end)\n",
      "[*********************100%***********************]  1 of 1 completed\n",
      "c:\\Users\\therd\\2_Python_project\\crude_inventory_optimization\\src\\utils\\data_loader.py:6: FutureWarning: YF.download() has changed argument auto_adjust default to True\n",
      "  df = yf.download(ticker, start=start, end=end)\n",
      "[*********************100%***********************]  1 of 1 completed\n"
     ]
    }
   ],
   "source": [
    "from src.utils.data_loader import fetch_yfinance_data\n",
    "\n",
    "# Fetch WTI Crude (CL=F)\n",
    "wti = fetch_yfinance_data(\n",
    "    ticker=\"CL=F\",\n",
    "    start=\"2015-01-01\",\n",
    "    end=\"2024-12-31\",\n",
    "    save_path=\"data/raw/wti_crude.csv\"\n",
    ")\n",
    "\n",
    "# Fetch Crude Implied Volatility (^OVX)\n",
    "ovx = fetch_yfinance_data(\n",
    "    ticker=\"^OVX\",\n",
    "    start=\"2015-01-01\",\n",
    "    end=\"2024-12-31\",\n",
    "    save_path=\"data/raw/ovx.csv\"\n",
    ")\n"
   ]
  },
  {
   "cell_type": "code",
   "execution_count": 4,
   "id": "624ab35e",
   "metadata": {},
   "outputs": [
    {
     "data": {
      "text/html": [
       "<div>\n",
       "<style scoped>\n",
       "    .dataframe tbody tr th:only-of-type {\n",
       "        vertical-align: middle;\n",
       "    }\n",
       "\n",
       "    .dataframe tbody tr th {\n",
       "        vertical-align: top;\n",
       "    }\n",
       "\n",
       "    .dataframe thead tr th {\n",
       "        text-align: left;\n",
       "    }\n",
       "\n",
       "    .dataframe thead tr:last-of-type th {\n",
       "        text-align: right;\n",
       "    }\n",
       "</style>\n",
       "<table border=\"1\" class=\"dataframe\">\n",
       "  <thead>\n",
       "    <tr>\n",
       "      <th>Price</th>\n",
       "      <th>Close</th>\n",
       "      <th>High</th>\n",
       "      <th>Low</th>\n",
       "      <th>Open</th>\n",
       "      <th>Volume</th>\n",
       "    </tr>\n",
       "    <tr>\n",
       "      <th>Ticker</th>\n",
       "      <th>CL=F</th>\n",
       "      <th>CL=F</th>\n",
       "      <th>CL=F</th>\n",
       "      <th>CL=F</th>\n",
       "      <th>CL=F</th>\n",
       "    </tr>\n",
       "    <tr>\n",
       "      <th>Date</th>\n",
       "      <th></th>\n",
       "      <th></th>\n",
       "      <th></th>\n",
       "      <th></th>\n",
       "      <th></th>\n",
       "    </tr>\n",
       "  </thead>\n",
       "  <tbody>\n",
       "    <tr>\n",
       "      <th>2015-01-02</th>\n",
       "      <td>52.689999</td>\n",
       "      <td>55.110001</td>\n",
       "      <td>52.029999</td>\n",
       "      <td>53.759998</td>\n",
       "      <td>268708</td>\n",
       "    </tr>\n",
       "    <tr>\n",
       "      <th>2015-01-05</th>\n",
       "      <td>50.040001</td>\n",
       "      <td>52.730000</td>\n",
       "      <td>49.680000</td>\n",
       "      <td>52.610001</td>\n",
       "      <td>375782</td>\n",
       "    </tr>\n",
       "    <tr>\n",
       "      <th>2015-01-06</th>\n",
       "      <td>47.930000</td>\n",
       "      <td>50.369999</td>\n",
       "      <td>47.549999</td>\n",
       "      <td>50.000000</td>\n",
       "      <td>451642</td>\n",
       "    </tr>\n",
       "    <tr>\n",
       "      <th>2015-01-07</th>\n",
       "      <td>48.650002</td>\n",
       "      <td>49.310001</td>\n",
       "      <td>46.830002</td>\n",
       "      <td>48.000000</td>\n",
       "      <td>460083</td>\n",
       "    </tr>\n",
       "    <tr>\n",
       "      <th>2015-01-08</th>\n",
       "      <td>48.790001</td>\n",
       "      <td>49.650002</td>\n",
       "      <td>47.730000</td>\n",
       "      <td>48.779999</td>\n",
       "      <td>362081</td>\n",
       "    </tr>\n",
       "  </tbody>\n",
       "</table>\n",
       "</div>"
      ],
      "text/plain": [
       "Price           Close       High        Low       Open  Volume\n",
       "Ticker           CL=F       CL=F       CL=F       CL=F    CL=F\n",
       "Date                                                          \n",
       "2015-01-02  52.689999  55.110001  52.029999  53.759998  268708\n",
       "2015-01-05  50.040001  52.730000  49.680000  52.610001  375782\n",
       "2015-01-06  47.930000  50.369999  47.549999  50.000000  451642\n",
       "2015-01-07  48.650002  49.310001  46.830002  48.000000  460083\n",
       "2015-01-08  48.790001  49.650002  47.730000  48.779999  362081"
      ]
     },
     "execution_count": 4,
     "metadata": {},
     "output_type": "execute_result"
    }
   ],
   "source": [
    "wti.head()"
   ]
  },
  {
   "cell_type": "code",
   "execution_count": null,
   "id": "f3c7dd12",
   "metadata": {},
   "outputs": [],
   "source": []
  }
 ],
 "metadata": {
  "kernelspec": {
   "display_name": "crude_env",
   "language": "python",
   "name": "python3"
  },
  "language_info": {
   "codemirror_mode": {
    "name": "ipython",
    "version": 3
   },
   "file_extension": ".py",
   "mimetype": "text/x-python",
   "name": "python",
   "nbconvert_exporter": "python",
   "pygments_lexer": "ipython3",
   "version": "3.13.5"
  }
 },
 "nbformat": 4,
 "nbformat_minor": 5
}
